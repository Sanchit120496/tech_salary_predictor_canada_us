{
 "cells": [
  {
   "cell_type": "markdown",
   "id": "e2c24a16-7673-4742-88a0-1994fcc8bd78",
   "metadata": {},
   "source": [
    "# Results"
   ]
  },
  {
   "cell_type": "code",
   "execution_count": 2,
   "id": "717542b1-cb94-4599-b261-81e1f5b89812",
   "metadata": {
    "tags": [
     "hide-cell"
    ]
   },
   "outputs": [
    {
     "name": "stderr",
     "output_type": "stream",
     "text": [
      "/Users/supernova/opt/anaconda3/lib/python3.8/site-packages/sklearn/base.py:310: UserWarning: Trying to unpickle estimator SimpleImputer from version 1.0.1 when using version 0.24.1. This might lead to breaking code or invalid results. Use at your own risk.\n",
      "  warnings.warn(\n",
      "/Users/supernova/opt/anaconda3/lib/python3.8/site-packages/sklearn/base.py:310: UserWarning: Trying to unpickle estimator StandardScaler from version 1.0.1 when using version 0.24.1. This might lead to breaking code or invalid results. Use at your own risk.\n",
      "  warnings.warn(\n",
      "/Users/supernova/opt/anaconda3/lib/python3.8/site-packages/sklearn/base.py:310: UserWarning: Trying to unpickle estimator Pipeline from version 1.0.1 when using version 0.24.1. This might lead to breaking code or invalid results. Use at your own risk.\n",
      "  warnings.warn(\n",
      "/Users/supernova/opt/anaconda3/lib/python3.8/site-packages/sklearn/base.py:310: UserWarning: Trying to unpickle estimator OneHotEncoder from version 1.0.1 when using version 0.24.1. This might lead to breaking code or invalid results. Use at your own risk.\n",
      "  warnings.warn(\n",
      "/Users/supernova/opt/anaconda3/lib/python3.8/site-packages/sklearn/base.py:310: UserWarning: Trying to unpickle estimator ColumnTransformer from version 1.0.1 when using version 0.24.1. This might lead to breaking code or invalid results. Use at your own risk.\n",
      "  warnings.warn(\n",
      "/Users/supernova/opt/anaconda3/lib/python3.8/site-packages/sklearn/base.py:310: UserWarning: Trying to unpickle estimator Ridge from version 1.0.1 when using version 0.24.1. This might lead to breaking code or invalid results. Use at your own risk.\n",
      "  warnings.warn(\n",
      "/Users/supernova/opt/anaconda3/lib/python3.8/site-packages/sklearn/base.py:310: UserWarning: Trying to unpickle estimator RandomizedSearchCV from version 1.0.1 when using version 0.24.1. This might lead to breaking code or invalid results. Use at your own risk.\n",
      "  warnings.warn(\n"
     ]
    },
    {
     "data": {
      "text/plain": [
       "0.091"
      ]
     },
     "metadata": {
      "scrapbook": {
       "mime_prefix": "",
       "name": "alpha_coef"
      }
     },
     "output_type": "display_data"
    },
    {
     "data": {
      "text/plain": [
       "0.725"
      ]
     },
     "metadata": {
      "scrapbook": {
       "mime_prefix": "",
       "name": "R2"
      }
     },
     "output_type": "display_data"
    },
    {
     "data": {
      "text/plain": [
       "0.718"
      ]
     },
     "metadata": {
      "scrapbook": {
       "mime_prefix": "",
       "name": "R2_test"
      }
     },
     "output_type": "display_data"
    }
   ],
   "source": [
    "from joblib import dump, load\n",
    "import pandas as pd\n",
    "from myst_nb import glue\n",
    "import altair as alt\n",
    "from altair_saver import save\n",
    "alt.data_transformers.enable('data_server')\n",
    "alt.renderers.enable('mimetype')\n",
    "\n",
    "\n",
    "pipe_loaded = load('../../results/best_model_pipe.joblib')\n",
    "alpha = round(pipe_loaded.best_params_['ridge__alpha'], 3)\n",
    "rsquare = round(pipe_loaded.best_score_, 3)\n",
    "glue(\"alpha_coef\", alpha);\n",
    "glue(\"R2\", rsquare);\n",
    "\n",
    "test_result_loaded = load('../../results/test_result.joblib')\n",
    "rsquare_test = round(test_result_loaded[\"r_sq_test\"], 3)\n",
    "glue(\"R2_test\", rsquare_test);\n",
    "\n",
    "test_df = pd.read_csv(\"../../data/processed/test.csv\")\n",
    "y_test = test_df.ConvertedComp.tolist()\n",
    "y_predict = test_result_loaded[\"predict_y\"].tolist()\n",
    "result = {\"true_y\": y_test, \"predicted_y\": y_predict}\n",
    "df_result = pd.DataFrame(data=result)\n",
    "df_result.head(5)\n",
    "\n",
    "df_diag = pd.DataFrame(data={\"true_y\": [0, max(df_result.true_y)+500],\n",
    "                             \"predicted_y\":[0, max(df_result.true_y)+500]})\n",
    "\n",
    "plt1 = alt.Chart(df_result).mark_point(opacity=0.5).encode(\n",
    "    alt.X(\"predicted_y\", title=\"Predicted salary\"),\n",
    "    alt.Y(\"true_y\", title=\"True salary\")\n",
    ") + alt.Chart(df_diag).mark_line(color='red').encode(\n",
    "    alt.X(\"predicted_y\", title=\"Predicted salary\"),\n",
    "    alt.Y(\"true_y\", title=\"True salary\")\n",
    ")"
   ]
  },
  {
   "cell_type": "markdown",
   "id": "b1f4c327-faf9-4518-9af3-30381f097676",
   "metadata": {},
   "source": [
    "The hyperparameter tunning result shows that the model is at the best performance when alpha = {glue:text}`alpha_coef` with a training $R^2$  of {glue:text}`R2` as shown in the figure below.\n",
    "\n",
    "```{figure} ../../results/alpha-tuning.png\n",
    "---\n",
    "height: 400px\n",
    "name: alpha-tuning\n",
    "---\n",
    "Hyperparameter searching\n",
    "```\n",
    "Applying the fitted model to the test data set, we get  a testing $R^2$ of {glue:text}`R2_test`."
   ]
  },
  {
   "cell_type": "code",
   "execution_count": null,
   "id": "8f4c870b-e1d8-4418-a08a-f37a57570229",
   "metadata": {},
   "outputs": [],
   "source": []
  }
 ],
 "metadata": {
  "kernelspec": {
   "display_name": "Python 3",
   "language": "python",
   "name": "python3"
  },
  "language_info": {
   "codemirror_mode": {
    "name": "ipython",
    "version": 3
   },
   "file_extension": ".py",
   "mimetype": "text/x-python",
   "name": "python",
   "nbconvert_exporter": "python",
   "pygments_lexer": "ipython3",
   "version": "3.8.8"
  }
 },
 "nbformat": 4,
 "nbformat_minor": 5
}
