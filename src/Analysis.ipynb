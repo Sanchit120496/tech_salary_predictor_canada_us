{
 "cells": [
  {
   "cell_type": "code",
   "execution_count": 1,
   "id": "7acb29c5-4a4e-44d7-9d88-88a0cbed2e9e",
   "metadata": {},
   "outputs": [],
   "source": [
    "import os\n",
    "import sys\n",
    "from hashlib import sha1\n",
    "\n",
    "import matplotlib.pyplot as plt\n",
    "import numpy as np\n",
    "import pandas as pd\n",
    "from sklearn import datasets\n",
    "from sklearn.compose import ColumnTransformer, make_column_transformer\n",
    "from sklearn.dummy import DummyClassifier, DummyRegressor\n",
    "from sklearn.ensemble import RandomForestClassifier, RandomForestRegressor\n",
    "from sklearn.linear_model import LogisticRegression, Ridge\n",
    "from sklearn.metrics import (\n",
    "    accuracy_score,\n",
    "    classification_report,\n",
    "    confusion_matrix,\n",
    "    f1_score,\n",
    "    make_scorer,\n",
    "    precision_score,\n",
    "    recall_score,\n",
    "    average_precision_score, \n",
    "    auc\n",
    ")\n",
    "from sklearn.model_selection import (\n",
    "    GridSearchCV,\n",
    "    RandomizedSearchCV,\n",
    "    cross_val_score,\n",
    "    cross_validate,\n",
    "    train_test_split,\n",
    ")\n",
    "from sklearn.pipeline import Pipeline, make_pipeline\n",
    "from sklearn.preprocessing import OneHotEncoder, OrdinalEncoder, StandardScaler\n",
    "from sklearn.svm import SVC, SVR\n",
    "from sklearn.impute import SimpleImputer\n",
    "from sklearn.metrics import ConfusionMatrixDisplay\n",
    "from scipy.stats import expon, lognorm, loguniform, randint, uniform\n",
    "from sklearn.metrics import PrecisionRecallDisplay, RocCurveDisplay\n",
    "import altair as alt"
   ]
  },
  {
   "cell_type": "code",
   "execution_count": 2,
   "id": "b1c27c76-20e9-4592-96a2-bb971a90b312",
   "metadata": {},
   "outputs": [],
   "source": [
    "# Code snippet copied from https://gist.github.com/jlln/338b4b0b55bd6984f883\n",
    "def splitDataFrameList(df, target_column, separator):\n",
    "    ''' df = dataframe to split,\n",
    "    target_column = the column containing the values to split\n",
    "    separator = the symbol used to perform the split\n",
    "    returns: a dataframe with each entry for the target column separated, with each element moved into a new row. \n",
    "    The values in the other columns are duplicated across the newly divided rows.\n",
    "    '''\n",
    "    def splitListToRows(row,row_accumulator, target_column, separator):\n",
    "        split_row = row[target_column].split(separator)\n",
    "        for s in split_row:\n",
    "            new_row = row.to_dict()\n",
    "            new_row[target_column] = s\n",
    "            row_accumulator.append(new_row)\n",
    "    new_rows = []\n",
    "    df.apply(splitListToRows,axis=1,args = (new_rows,target_column,separator))\n",
    "    new_df = pd.DataFrame(new_rows)\n",
    "    return new_df\n",
    "\n",
    "# Code copied from 573 lecture notes\n",
    "def mean_std_cross_val_scores(model, X_train, y_train, **kwargs):\n",
    "    \"\"\"\n",
    "    Returns mean and std of cross validation\n",
    "\n",
    "    Parameters\n",
    "    ----------\n",
    "    model :\n",
    "        scikit-learn model\n",
    "    X_train : numpy array or pandas DataFrame\n",
    "        X in the training data\n",
    "    y_train :\n",
    "        y in the training data\n",
    "\n",
    "    Returns\n",
    "    ----------\n",
    "        pandas Series with mean scores from cross_validation\n",
    "    \"\"\"\n",
    "\n",
    "    scores = cross_validate(model, X_train, y_train, **kwargs)\n",
    "\n",
    "    mean_scores = pd.DataFrame(scores).mean()\n",
    "    std_scores = pd.DataFrame(scores).std()\n",
    "    out_col = []\n",
    "\n",
    "    for i in range(len(mean_scores)):\n",
    "        out_col.append((f\"%0.3f (+/- %0.3f)\" % (mean_scores[i], std_scores[i])))\n",
    "\n",
    "    return pd.Series(data=out_col, index=mean_scores.index)"
   ]
  },
  {
   "cell_type": "code",
   "execution_count": 25,
   "id": "fbd77f4a-5915-45fd-b4df-8bb70f22c582",
   "metadata": {},
   "outputs": [],
   "source": [
    "survey_data = pd.read_csv('../data/raw/survey_results_public.csv')"
   ]
  },
  {
   "cell_type": "code",
   "execution_count": 26,
   "id": "bf19ece5-a55a-4002-ae0b-07f2f8772fcf",
   "metadata": {},
   "outputs": [],
   "source": [
    "# country_selected = ['United States','Canada']\n",
    "survey_data = survey_data.query(\"Country == 'Canada' & Employment == 'Employed full-time' & Student == 'No'\")\n",
    "survey_data = survey_data.query(\"YearsCodePro != 'Less than 1 year' and YearsCodePro != 'More than 50 years'\")\n",
    "\n",
    "# lower = 5000\n",
    "# upper = 100_000\n",
    "# survey_data = survey_data.query(\"CompTotal >= @lower & CompTotal <= @upper\")\n",
    "\n",
    "# survey_data = survey_data.query(\"CompFreq == 'Yearly'\")\n",
    "survey_data = survey_data.dropna(subset=[\"YearsCodePro\", \"ConvertedComp\", \"DevType\"])\n",
    "# survey_data['salary_log'] = survey_data[\"ConvertedComp\"]  #np.log(survey_data['ConvertedComp'])\n",
    "survey_data = survey_data.astype({\"YearsCodePro\": \"int\"})\n",
    "\n",
    "q = survey_data[\"ConvertedComp\"].quantile(0.92)\n",
    "survey_data = survey_data[survey_data[\"ConvertedComp\"] < q]\n",
    "\n",
    "\n",
    "survey_data = survey_data[[\"DevType\", \"EdLevel\", \"YearsCodePro\", \"LanguageWorkedWith\", \"ConvertedComp\"]]\n",
    "\n",
    "# survey_data = splitDataFrameList(survey_data, \"LanguageWorkedWith\", \";\")\n",
    "survey_data = splitDataFrameList(survey_data, \"DevType\", \";\")"
   ]
  },
  {
   "cell_type": "code",
   "execution_count": 27,
   "id": "154e8254-f6ca-4442-b1ef-e6f3cc75f3ea",
   "metadata": {},
   "outputs": [],
   "source": [
    "train_df, test_df = train_test_split(survey_data, test_size=0.2, random_state=123)\n",
    "\n",
    "train_df.to_csv(\"../data/preprocessed/training.csv\", index=False)"
   ]
  },
  {
   "cell_type": "code",
   "execution_count": 6,
   "id": "8a33d2a2-82d6-4faf-861c-c3d3c36298a2",
   "metadata": {},
   "outputs": [
    {
     "data": {
      "text/html": [
       "\n",
       "<div id=\"altair-viz-bbc55f47e7714daba4418797c759d468\"></div>\n",
       "<script type=\"text/javascript\">\n",
       "  (function(spec, embedOpt){\n",
       "    let outputDiv = document.currentScript.previousElementSibling;\n",
       "    if (outputDiv.id !== \"altair-viz-bbc55f47e7714daba4418797c759d468\") {\n",
       "      outputDiv = document.getElementById(\"altair-viz-bbc55f47e7714daba4418797c759d468\");\n",
       "    }\n",
       "    const paths = {\n",
       "      \"vega\": \"https://cdn.jsdelivr.net/npm//vega@5?noext\",\n",
       "      \"vega-lib\": \"https://cdn.jsdelivr.net/npm//vega-lib?noext\",\n",
       "      \"vega-lite\": \"https://cdn.jsdelivr.net/npm//vega-lite@4.8.1?noext\",\n",
       "      \"vega-embed\": \"https://cdn.jsdelivr.net/npm//vega-embed@6?noext\",\n",
       "    };\n",
       "\n",
       "    function loadScript(lib) {\n",
       "      return new Promise(function(resolve, reject) {\n",
       "        var s = document.createElement('script');\n",
       "        s.src = paths[lib];\n",
       "        s.async = true;\n",
       "        s.onload = () => resolve(paths[lib]);\n",
       "        s.onerror = () => reject(`Error loading script: ${paths[lib]}`);\n",
       "        document.getElementsByTagName(\"head\")[0].appendChild(s);\n",
       "      });\n",
       "    }\n",
       "\n",
       "    function showError(err) {\n",
       "      outputDiv.innerHTML = `<div class=\"error\" style=\"color:red;\">${err}</div>`;\n",
       "      throw err;\n",
       "    }\n",
       "\n",
       "    function displayChart(vegaEmbed) {\n",
       "      vegaEmbed(outputDiv, spec, embedOpt)\n",
       "        .catch(err => showError(`Javascript Error: ${err.message}<br>This usually means there's a typo in your chart specification. See the javascript console for the full traceback.`));\n",
       "    }\n",
       "\n",
       "    if(typeof define === \"function\" && define.amd) {\n",
       "      requirejs.config({paths});\n",
       "      require([\"vega-embed\"], displayChart, err => showError(`Error loading script: ${err.message}`));\n",
       "    } else if (typeof vegaEmbed === \"function\") {\n",
       "      displayChart(vegaEmbed);\n",
       "    } else {\n",
       "      loadScript(\"vega\")\n",
       "        .then(() => loadScript(\"vega-lite\"))\n",
       "        .then(() => loadScript(\"vega-embed\"))\n",
       "        .catch(showError)\n",
       "        .then(() => displayChart(vegaEmbed));\n",
       "    }\n",
       "  })({\"config\": {\"view\": {\"continuousWidth\": 400, \"continuousHeight\": 300}}, \"hconcat\": [{\"mark\": {\"type\": \"area\", \"interpolate\": \"monotone\"}, \"encoding\": {\"x\": {\"type\": \"quantitative\", \"field\": \"salary_log\"}, \"y\": {\"type\": \"quantitative\", \"field\": \"density\"}}, \"transform\": [{\"density\": \"salary_log\", \"as\": [\"salary_log\", \"density\"]}]}, {\"mark\": \"line\", \"encoding\": {\"x\": {\"type\": \"quantitative\", \"field\": \"YearsCodePro\"}, \"y\": {\"type\": \"quantitative\", \"aggregate\": \"mean\", \"field\": \"salary_log\"}}}], \"data\": {\"url\": \"http://localhost:20996/4c92c0adda2aea8beddd4caf009cbfa7.json\"}, \"$schema\": \"https://vega.github.io/schema/vega-lite/v4.8.1.json\"}, {\"mode\": \"vega-lite\"});\n",
       "</script>"
      ],
      "text/plain": [
       "alt.HConcatChart(...)"
      ]
     },
     "execution_count": 6,
     "metadata": {},
     "output_type": "execute_result"
    }
   ],
   "source": [
    "alt.data_transformers.enable('data_server')\n",
    "# alt.Chart(train_df).mark_bar().encode(\n",
    "#     x= alt.X(\"ConvertedComp\", bin=alt.Bin(maxbins = 10)),\n",
    "#     y = \"count()\"\n",
    "# )\n",
    "\n",
    "# (alt.Chart(train_df)\n",
    "#  .transform_density(\n",
    "#     'ConvertedComp',\n",
    "#     as_=['ConvertedComp', 'density'])  # Give the name \"density\" the KDE columns we just created\n",
    "#  .mark_area(interpolate='monotone').encode(\n",
    "#     x=alt.X('ConvertedComp', scale=alt.Scale(type='log')),\n",
    "#     y='density:Q')\n",
    "# )\n",
    "\n",
    "density_plot = (alt.Chart(train_df)\n",
    " .transform_density(\n",
    "    'salary_log',\n",
    "    as_=['salary_log', 'density'])  # Give the name \"density\" the KDE columns we just created\n",
    " .mark_area(interpolate='monotone').encode(\n",
    "    x=alt.X('salary_log'),\n",
    "    y='density:Q')\n",
    ")\n",
    "\n",
    "\n",
    "\n",
    "density_plot | alt.Chart(train_df).mark_line().encode(\n",
    "    x = \"YearsCodePro\",\n",
    "    y = \"mean(salary_log)\"\n",
    ") "
   ]
  },
  {
   "cell_type": "code",
   "execution_count": 7,
   "id": "4fd207e1-99c5-405e-af29-a31f38d1329c",
   "metadata": {},
   "outputs": [
    {
     "data": {
      "text/plain": [
       "(3748, 5)"
      ]
     },
     "execution_count": 7,
     "metadata": {},
     "output_type": "execute_result"
    }
   ],
   "source": [
    "X_train = train_df.drop(columns=[\"salary_log\"])\n",
    "y_train = train_df[\"salary_log\"]\n",
    "train_df.shape"
   ]
  },
  {
   "cell_type": "code",
   "execution_count": 8,
   "id": "27d7c96b-941a-4362-9454-e62f047eb793",
   "metadata": {},
   "outputs": [
    {
     "data": {
      "text/plain": [
       "948     68705.0\n",
       "4429    74048.0\n",
       "1317    76339.0\n",
       "80      51147.0\n",
       "996     49600.0\n",
       "Name: salary_log, dtype: float64"
      ]
     },
     "execution_count": 8,
     "metadata": {},
     "output_type": "execute_result"
    }
   ],
   "source": [
    "y_train.head()"
   ]
  },
  {
   "cell_type": "code",
   "execution_count": 11,
   "id": "eb3673ae-a5b9-4a73-ad6b-cb21d9248564",
   "metadata": {},
   "outputs": [],
   "source": [
    "results = {}\n",
    "numeric_features = [\"YearsCodePro\"]\n",
    "categorical_features = [\"DevType\", \"EdLevel\", \"LanguageWorkedWith\"]\n",
    "\n",
    "numeric_transformer = make_pipeline(SimpleImputer(), StandardScaler())\n",
    "categorical_transformer = make_pipeline(SimpleImputer(strategy=\"constant\", fill_value=\"missing\"),\n",
    "                                       OneHotEncoder(sparse=False, handle_unknown=\"ignore\"))\n",
    "\n",
    "preprocessor = make_column_transformer(\n",
    "    (numeric_transformer, numeric_features),\n",
    "    (categorical_transformer, categorical_features)\n",
    ")\n",
    "\n",
    "pipe = make_pipeline(preprocessor, DummyRegressor())\n",
    "results[\"Dummy\"] = mean_std_cross_val_scores(pipe, X_train, y_train, cv=5, return_train_score=True)"
   ]
  },
  {
   "cell_type": "code",
   "execution_count": 12,
   "id": "77bc843e-f6a2-444d-addf-737a86cf3e8b",
   "metadata": {},
   "outputs": [],
   "source": [
    "pipe_ridge = make_pipeline(preprocessor, Ridge())\n",
    "results[\"Ridge\"] = mean_std_cross_val_scores(pipe_ridge, X_train, y_train, cv=5, return_train_score=True)"
   ]
  },
  {
   "cell_type": "code",
   "execution_count": 13,
   "id": "26b2cd09-32d7-4a2a-8034-f3d5de0a9345",
   "metadata": {},
   "outputs": [
    {
     "data": {
      "text/html": [
       "<div>\n",
       "<style scoped>\n",
       "    .dataframe tbody tr th:only-of-type {\n",
       "        vertical-align: middle;\n",
       "    }\n",
       "\n",
       "    .dataframe tbody tr th {\n",
       "        vertical-align: top;\n",
       "    }\n",
       "\n",
       "    .dataframe thead th {\n",
       "        text-align: right;\n",
       "    }\n",
       "</style>\n",
       "<table border=\"1\" class=\"dataframe\">\n",
       "  <thead>\n",
       "    <tr style=\"text-align: right;\">\n",
       "      <th></th>\n",
       "      <th>Dummy</th>\n",
       "      <th>Ridge</th>\n",
       "    </tr>\n",
       "  </thead>\n",
       "  <tbody>\n",
       "    <tr>\n",
       "      <th>fit_time</th>\n",
       "      <td>0.044 (+/- 0.028)</td>\n",
       "      <td>0.081 (+/- 0.015)</td>\n",
       "    </tr>\n",
       "    <tr>\n",
       "      <th>score_time</th>\n",
       "      <td>0.015 (+/- 0.006)</td>\n",
       "      <td>0.010 (+/- 0.001)</td>\n",
       "    </tr>\n",
       "    <tr>\n",
       "      <th>test_score</th>\n",
       "      <td>-0.002 (+/- 0.002)</td>\n",
       "      <td>0.675 (+/- 0.030)</td>\n",
       "    </tr>\n",
       "    <tr>\n",
       "      <th>train_score</th>\n",
       "      <td>0.000 (+/- 0.000)</td>\n",
       "      <td>0.815 (+/- 0.006)</td>\n",
       "    </tr>\n",
       "  </tbody>\n",
       "</table>\n",
       "</div>"
      ],
      "text/plain": [
       "                          Dummy              Ridge\n",
       "fit_time      0.044 (+/- 0.028)  0.081 (+/- 0.015)\n",
       "score_time    0.015 (+/- 0.006)  0.010 (+/- 0.001)\n",
       "test_score   -0.002 (+/- 0.002)  0.675 (+/- 0.030)\n",
       "train_score   0.000 (+/- 0.000)  0.815 (+/- 0.006)"
      ]
     },
     "execution_count": 13,
     "metadata": {},
     "output_type": "execute_result"
    }
   ],
   "source": [
    "pd.DataFrame(results)"
   ]
  },
  {
   "cell_type": "markdown",
   "id": "0b28568a-30f3-4a15-8aad-3e7c75c43f6b",
   "metadata": {},
   "source": [
    "### TODO\n",
    "- Try different scoring metrics\n",
    "- Try simple linear regression with one column\n",
    "- Search analysis by others on the internet\n",
    "    https://towardsdatascience.com/lets-learn-from-the-stackoverflow-survey-7f3eaf7db4b6"
   ]
  },
  {
   "cell_type": "code",
   "execution_count": null,
   "id": "9b2ddc28-e197-4cee-9e68-b1547cb2a5ff",
   "metadata": {},
   "outputs": [],
   "source": []
  }
 ],
 "metadata": {
  "kernelspec": {
   "display_name": "Python [conda env:571]",
   "language": "python",
   "name": "conda-env-571-py"
  },
  "language_info": {
   "codemirror_mode": {
    "name": "ipython",
    "version": 3
   },
   "file_extension": ".py",
   "mimetype": "text/x-python",
   "name": "python",
   "nbconvert_exporter": "python",
   "pygments_lexer": "ipython3",
   "version": "3.9.7"
  }
 },
 "nbformat": 4,
 "nbformat_minor": 5
}
