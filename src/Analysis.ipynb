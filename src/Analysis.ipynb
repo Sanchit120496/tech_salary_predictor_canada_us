{
 "cells": [
  {
   "cell_type": "code",
   "execution_count": 1,
   "id": "7acb29c5-4a4e-44d7-9d88-88a0cbed2e9e",
   "metadata": {},
   "outputs": [],
   "source": [
    "import os\n",
    "import sys\n",
    "from hashlib import sha1\n",
    "\n",
    "import matplotlib.pyplot as plt\n",
    "import numpy as np\n",
    "import pandas as pd\n",
    "from sklearn import datasets\n",
    "from sklearn.compose import ColumnTransformer, make_column_transformer\n",
    "from sklearn.dummy import DummyClassifier, DummyRegressor\n",
    "from sklearn.ensemble import RandomForestClassifier, RandomForestRegressor\n",
    "from sklearn.linear_model import LogisticRegression, Ridge\n",
    "from sklearn.metrics import (\n",
    "    accuracy_score,\n",
    "    classification_report,\n",
    "    confusion_matrix,\n",
    "    f1_score,\n",
    "    make_scorer,\n",
    "    precision_score,\n",
    "    recall_score,\n",
    "    average_precision_score, \n",
    "    auc\n",
    ")\n",
    "from sklearn.model_selection import (\n",
    "    GridSearchCV,\n",
    "    RandomizedSearchCV,\n",
    "    cross_val_score,\n",
    "    cross_validate,\n",
    "    train_test_split,\n",
    ")\n",
    "from sklearn.pipeline import Pipeline, make_pipeline\n",
    "from sklearn.preprocessing import OneHotEncoder, OrdinalEncoder, StandardScaler\n",
    "from sklearn.svm import SVC, SVR\n",
    "from sklearn.impute import SimpleImputer\n",
    "from sklearn.metrics import ConfusionMatrixDisplay\n",
    "from scipy.stats import expon, lognorm, loguniform, randint, uniform\n",
    "from sklearn.metrics import PrecisionRecallDisplay, RocCurveDisplay\n",
    "import altair as alt"
   ]
  },
  {
   "cell_type": "code",
   "execution_count": 2,
   "id": "fbd77f4a-5915-45fd-b4df-8bb70f22c582",
   "metadata": {},
   "outputs": [],
   "source": [
    "survey_data = pd.read_csv('../data/raw/survey_results_public.csv')\n",
    "country_selected = ['United States','Canada'] \n",
    "survey_data = survey_data.query('Country == @country_selected')"
   ]
  },
  {
   "cell_type": "code",
   "execution_count": 3,
   "id": "154e8254-f6ca-4442-b1ef-e6f3cc75f3ea",
   "metadata": {},
   "outputs": [],
   "source": [
    "train_df, test_df = train_test_split(survey_data, test_size=0.2, random_state=123)"
   ]
  },
  {
   "cell_type": "code",
   "execution_count": 4,
   "id": "0762d5d6-dc41-4ed2-8bbe-b5f62efe3af2",
   "metadata": {},
   "outputs": [],
   "source": [
    "# Code snippet copied from https://gist.github.com/jlln/338b4b0b55bd6984f883\n",
    "def splitDataFrameList(df, target_column, separator):\n",
    "    ''' df = dataframe to split,\n",
    "    target_column = the column containing the values to split\n",
    "    separator = the symbol used to perform the split\n",
    "    returns: a dataframe with each entry for the target column separated, with each element moved into a new row. \n",
    "    The values in the other columns are duplicated across the newly divided rows.\n",
    "    '''\n",
    "    def splitListToRows(row,row_accumulator, target_column, separator):\n",
    "        split_row = row[target_column].split(separator)\n",
    "        for s in split_row:\n",
    "            new_row = row.to_dict()\n",
    "            new_row[target_column] = s\n",
    "            row_accumulator.append(new_row)\n",
    "    new_rows = []\n",
    "    df.apply(splitListToRows,axis=1,args = (new_rows,target_column,separator))\n",
    "    new_df = pd.DataFrame(new_rows)\n",
    "    return new_df\n",
    "\n",
    "# Code copied from 573 lecture notes\n",
    "def mean_std_cross_val_scores(model, X_train, y_train, **kwargs):\n",
    "    \"\"\"\n",
    "    Returns mean and std of cross validation\n",
    "\n",
    "    Parameters\n",
    "    ----------\n",
    "    model :\n",
    "        scikit-learn model\n",
    "    X_train : numpy array or pandas DataFrame\n",
    "        X in the training data\n",
    "    y_train :\n",
    "        y in the training data\n",
    "\n",
    "    Returns\n",
    "    ----------\n",
    "        pandas Series with mean scores from cross_validation\n",
    "    \"\"\"\n",
    "\n",
    "    scores = cross_validate(model, X_train, y_train, **kwargs)\n",
    "\n",
    "    mean_scores = pd.DataFrame(scores).mean()\n",
    "    std_scores = pd.DataFrame(scores).std()\n",
    "    out_col = []\n",
    "\n",
    "    for i in range(len(mean_scores)):\n",
    "        out_col.append((f\"%0.3f (+/- %0.3f)\" % (mean_scores[i], std_scores[i])))\n",
    "\n",
    "    return pd.Series(data=out_col, index=mean_scores.index)"
   ]
  },
  {
   "cell_type": "code",
   "execution_count": 5,
   "id": "3c5b1e6f-88d8-4301-952f-0263ca0cfbe8",
   "metadata": {},
   "outputs": [],
   "source": [
    "train_df = train_df[[\"DevType\", \"EdLevel\", \"YearsCodePro\", \"LanguageWorkedWith\", \"CompFreq\", \"CompTotal\"]].dropna()\n",
    "train_df = train_df.query(\"YearsCodePro != 'Less than 1 year' and YearsCodePro != 'More than 50 years'\")"
   ]
  },
  {
   "cell_type": "code",
   "execution_count": 6,
   "id": "ddc4268c-9143-49c5-ac74-30944ae08f90",
   "metadata": {},
   "outputs": [],
   "source": [
    "train_df.loc[train_df[\"CompFreq\"] == \"Monthly\", \"CompTotal\"] *= 12\n",
    "train_df.loc[train_df[\"CompFreq\"] == \"Monthly\", \"CompFreq\"] = \"Yearly\"\n",
    "\n",
    "train_df.loc[train_df[\"CompFreq\"] == \"Weekly\", \"CompTotal\"] *= 12 * 4\n",
    "train_df.loc[train_df[\"CompFreq\"] == \"Weekly\", \"CompFreq\"] = \"Yearly\""
   ]
  },
  {
   "cell_type": "code",
   "execution_count": 11,
   "id": "b43dd67f-5a80-49d2-ba29-3f24f485964a",
   "metadata": {},
   "outputs": [],
   "source": [
    "lower = 5000\n",
    "upper = 500_000\n",
    "train_df = train_df.query(\"CompTotal >= @lower & CompTotal <= @upper\")"
   ]
  },
  {
   "cell_type": "code",
   "execution_count": 12,
   "id": "09f33c89-f471-4d81-8ff7-8b606b2360dd",
   "metadata": {},
   "outputs": [
    {
     "data": {
      "text/html": [
       "<div>\n",
       "<style scoped>\n",
       "    .dataframe tbody tr th:only-of-type {\n",
       "        vertical-align: middle;\n",
       "    }\n",
       "\n",
       "    .dataframe tbody tr th {\n",
       "        vertical-align: top;\n",
       "    }\n",
       "\n",
       "    .dataframe thead th {\n",
       "        text-align: right;\n",
       "    }\n",
       "</style>\n",
       "<table border=\"1\" class=\"dataframe\">\n",
       "  <thead>\n",
       "    <tr style=\"text-align: right;\">\n",
       "      <th></th>\n",
       "      <th>DevType</th>\n",
       "      <th>EdLevel</th>\n",
       "      <th>YearsCodePro</th>\n",
       "      <th>LanguageWorkedWith</th>\n",
       "      <th>CompFreq</th>\n",
       "      <th>CompTotal</th>\n",
       "    </tr>\n",
       "  </thead>\n",
       "  <tbody>\n",
       "    <tr>\n",
       "      <th>0</th>\n",
       "      <td>Developer, front-end</td>\n",
       "      <td>Some college/university study without earning ...</td>\n",
       "      <td>3</td>\n",
       "      <td>Bash/Shell/PowerShell</td>\n",
       "      <td>Yearly</td>\n",
       "      <td>92000.0</td>\n",
       "    </tr>\n",
       "    <tr>\n",
       "      <th>1</th>\n",
       "      <td>Developer, front-end</td>\n",
       "      <td>Some college/university study without earning ...</td>\n",
       "      <td>3</td>\n",
       "      <td>C++</td>\n",
       "      <td>Yearly</td>\n",
       "      <td>92000.0</td>\n",
       "    </tr>\n",
       "    <tr>\n",
       "      <th>2</th>\n",
       "      <td>Developer, front-end</td>\n",
       "      <td>Some college/university study without earning ...</td>\n",
       "      <td>3</td>\n",
       "      <td>HTML/CSS</td>\n",
       "      <td>Yearly</td>\n",
       "      <td>92000.0</td>\n",
       "    </tr>\n",
       "    <tr>\n",
       "      <th>3</th>\n",
       "      <td>Developer, front-end</td>\n",
       "      <td>Some college/university study without earning ...</td>\n",
       "      <td>3</td>\n",
       "      <td>JavaScript</td>\n",
       "      <td>Yearly</td>\n",
       "      <td>92000.0</td>\n",
       "    </tr>\n",
       "    <tr>\n",
       "      <th>4</th>\n",
       "      <td>Developer, front-end</td>\n",
       "      <td>Some college/university study without earning ...</td>\n",
       "      <td>3</td>\n",
       "      <td>Kotlin</td>\n",
       "      <td>Yearly</td>\n",
       "      <td>92000.0</td>\n",
       "    </tr>\n",
       "    <tr>\n",
       "      <th>5</th>\n",
       "      <td>Developer, front-end</td>\n",
       "      <td>Some college/university study without earning ...</td>\n",
       "      <td>3</td>\n",
       "      <td>TypeScript</td>\n",
       "      <td>Yearly</td>\n",
       "      <td>92000.0</td>\n",
       "    </tr>\n",
       "    <tr>\n",
       "      <th>6</th>\n",
       "      <td>Developer, full-stack</td>\n",
       "      <td>Bachelor’s degree (BA, BS, B.Eng., etc.)</td>\n",
       "      <td>2</td>\n",
       "      <td>Bash/Shell/PowerShell</td>\n",
       "      <td>Yearly</td>\n",
       "      <td>60000.0</td>\n",
       "    </tr>\n",
       "    <tr>\n",
       "      <th>7</th>\n",
       "      <td>Developer, full-stack</td>\n",
       "      <td>Bachelor’s degree (BA, BS, B.Eng., etc.)</td>\n",
       "      <td>2</td>\n",
       "      <td>C#</td>\n",
       "      <td>Yearly</td>\n",
       "      <td>60000.0</td>\n",
       "    </tr>\n",
       "    <tr>\n",
       "      <th>8</th>\n",
       "      <td>Developer, full-stack</td>\n",
       "      <td>Bachelor’s degree (BA, BS, B.Eng., etc.)</td>\n",
       "      <td>2</td>\n",
       "      <td>HTML/CSS</td>\n",
       "      <td>Yearly</td>\n",
       "      <td>60000.0</td>\n",
       "    </tr>\n",
       "    <tr>\n",
       "      <th>9</th>\n",
       "      <td>Developer, full-stack</td>\n",
       "      <td>Bachelor’s degree (BA, BS, B.Eng., etc.)</td>\n",
       "      <td>2</td>\n",
       "      <td>JavaScript</td>\n",
       "      <td>Yearly</td>\n",
       "      <td>60000.0</td>\n",
       "    </tr>\n",
       "  </tbody>\n",
       "</table>\n",
       "</div>"
      ],
      "text/plain": [
       "                 DevType                                            EdLevel  \\\n",
       "0   Developer, front-end  Some college/university study without earning ...   \n",
       "1   Developer, front-end  Some college/university study without earning ...   \n",
       "2   Developer, front-end  Some college/university study without earning ...   \n",
       "3   Developer, front-end  Some college/university study without earning ...   \n",
       "4   Developer, front-end  Some college/university study without earning ...   \n",
       "5   Developer, front-end  Some college/university study without earning ...   \n",
       "6  Developer, full-stack           Bachelor’s degree (BA, BS, B.Eng., etc.)   \n",
       "7  Developer, full-stack           Bachelor’s degree (BA, BS, B.Eng., etc.)   \n",
       "8  Developer, full-stack           Bachelor’s degree (BA, BS, B.Eng., etc.)   \n",
       "9  Developer, full-stack           Bachelor’s degree (BA, BS, B.Eng., etc.)   \n",
       "\n",
       "  YearsCodePro     LanguageWorkedWith CompFreq  CompTotal  \n",
       "0            3  Bash/Shell/PowerShell   Yearly    92000.0  \n",
       "1            3                    C++   Yearly    92000.0  \n",
       "2            3               HTML/CSS   Yearly    92000.0  \n",
       "3            3             JavaScript   Yearly    92000.0  \n",
       "4            3                 Kotlin   Yearly    92000.0  \n",
       "5            3             TypeScript   Yearly    92000.0  \n",
       "6            2  Bash/Shell/PowerShell   Yearly    60000.0  \n",
       "7            2                     C#   Yearly    60000.0  \n",
       "8            2               HTML/CSS   Yearly    60000.0  \n",
       "9            2             JavaScript   Yearly    60000.0  "
      ]
     },
     "execution_count": 12,
     "metadata": {},
     "output_type": "execute_result"
    }
   ],
   "source": [
    "train_df = splitDataFrameList(train_df, \"LanguageWorkedWith\", \";\")\n",
    "train_df = splitDataFrameList(train_df, \"DevType\", \";\")\n",
    "\n",
    "X_train = train_df.drop(columns=[\"CompTotal\"])\n",
    "y_train = train_df[\"CompTotal\"]\n",
    "train_df.head(10)"
   ]
  },
  {
   "cell_type": "code",
   "execution_count": 13,
   "id": "29e3b82f-dc48-4921-8b9b-a3c4b7fb9eee",
   "metadata": {},
   "outputs": [],
   "source": [
    "train_df = train_df.astype({'YearsCodePro': 'int32'})"
   ]
  },
  {
   "cell_type": "code",
   "execution_count": 14,
   "id": "eb3673ae-a5b9-4a73-ad6b-cb21d9248564",
   "metadata": {},
   "outputs": [
    {
     "data": {
      "text/plain": [
       "fit_time       0.327 (+/- 0.025)\n",
       "score_time     0.082 (+/- 0.006)\n",
       "test_score    -0.004 (+/- 0.003)\n",
       "dtype: object"
      ]
     },
     "execution_count": 14,
     "metadata": {},
     "output_type": "execute_result"
    }
   ],
   "source": [
    "numeric_features = [\"YearsCodePro\"]\n",
    "categorical_features = [\"DevType\", \"EdLevel\", \"LanguageWorkedWith\"]\n",
    "\n",
    "numeric_transformer = make_pipeline(SimpleImputer(strategy=\"median\"), StandardScaler())\n",
    "categorical_transformer = make_pipeline(SimpleImputer(strategy=\"constant\", fill_value=\"missing\"),\n",
    "                                       OneHotEncoder(sparse=False, handle_unknown=\"ignore\"))\n",
    "\n",
    "preprocessor = make_column_transformer(\n",
    "    (numeric_transformer, numeric_features),\n",
    "    (categorical_transformer, categorical_features)\n",
    ")\n",
    "\n",
    "pipe = make_pipeline(preprocessor, DummyRegressor())\n",
    "mean_std_cross_val_scores(pipe, X_train, y_train, cv=5)"
   ]
  },
  {
   "cell_type": "code",
   "execution_count": 15,
   "id": "9716aa78-86c1-48ef-acbb-d191d02a84ea",
   "metadata": {},
   "outputs": [
    {
     "data": {
      "text/plain": [
       "<AxesSubplot:ylabel='Frequency'>"
      ]
     },
     "execution_count": 15,
     "metadata": {},
     "output_type": "execute_result"
    },
    {
     "data": {
      "image/png": "[encoded data removed]",
      "text/plain": [
       "<Figure size 432x288 with 1 Axes>"
      ]
     },
     "metadata": {
      "needs_background": "light"
     },
     "output_type": "display_data"
    }
   ],
   "source": [
    "train_df[[\"CompTotal\"]].plot.hist()"
   ]
  },
  {
   "cell_type": "code",
   "execution_count": 20,
   "id": "77bc843e-f6a2-444d-addf-737a86cf3e8b",
   "metadata": {},
   "outputs": [
    {
     "data": {
      "text/plain": [
       "fit_time      0.412 (+/- 0.041)\n",
       "score_time    0.083 (+/- 0.003)\n",
       "test_score    0.160 (+/- 0.026)\n",
       "dtype: object"
      ]
     },
     "execution_count": 20,
     "metadata": {},
     "output_type": "execute_result"
    }
   ],
   "source": [
    "pipe_ridge = make_pipeline(preprocessor, Ridge())\n",
    "mean_std_cross_val_scores(pipe_ridge, X_train, y_train, cv=5)"
   ]
  },
  {
   "cell_type": "code",
   "execution_count": 19,
   "id": "8e7b48c0-8554-4c8f-a2d8-e840a8ac37d8",
   "metadata": {},
   "outputs": [
    {
     "data": {
      "text/html": [
       "\n",
       "<div id=\"altair-viz-8f7b007eab784ae9be30b55779b28d89\"></div>\n",
       "<script type=\"text/javascript\">\n",
       "  (function(spec, embedOpt){\n",
       "    let outputDiv = document.currentScript.previousElementSibling;\n",
       "    if (outputDiv.id !== \"altair-viz-8f7b007eab784ae9be30b55779b28d89\") {\n",
       "      outputDiv = document.getElementById(\"altair-viz-8f7b007eab784ae9be30b55779b28d89\");\n",
       "    }\n",
       "    const paths = {\n",
       "      \"vega\": \"https://cdn.jsdelivr.net/npm//vega@5?noext\",\n",
       "      \"vega-lib\": \"https://cdn.jsdelivr.net/npm//vega-lib?noext\",\n",
       "      \"vega-lite\": \"https://cdn.jsdelivr.net/npm//vega-lite@4.8.1?noext\",\n",
       "      \"vega-embed\": \"https://cdn.jsdelivr.net/npm//vega-embed@6?noext\",\n",
       "    };\n",
       "\n",
       "    function loadScript(lib) {\n",
       "      return new Promise(function(resolve, reject) {\n",
       "        var s = document.createElement('script');\n",
       "        s.src = paths[lib];\n",
       "        s.async = true;\n",
       "        s.onload = () => resolve(paths[lib]);\n",
       "        s.onerror = () => reject(`Error loading script: ${paths[lib]}`);\n",
       "        document.getElementsByTagName(\"head\")[0].appendChild(s);\n",
       "      });\n",
       "    }\n",
       "\n",
       "    function showError(err) {\n",
       "      outputDiv.innerHTML = `<div class=\"error\" style=\"color:red;\">${err}</div>`;\n",
       "      throw err;\n",
       "    }\n",
       "\n",
       "    function displayChart(vegaEmbed) {\n",
       "      vegaEmbed(outputDiv, spec, embedOpt)\n",
       "        .catch(err => showError(`Javascript Error: ${err.message}<br>This usually means there's a typo in your chart specification. See the javascript console for the full traceback.`));\n",
       "    }\n",
       "\n",
       "    if(typeof define === \"function\" && define.amd) {\n",
       "      requirejs.config({paths});\n",
       "      require([\"vega-embed\"], displayChart, err => showError(`Error loading script: ${err.message}`));\n",
       "    } else if (typeof vegaEmbed === \"function\") {\n",
       "      displayChart(vegaEmbed);\n",
       "    } else {\n",
       "      loadScript(\"vega\")\n",
       "        .then(() => loadScript(\"vega-lite\"))\n",
       "        .then(() => loadScript(\"vega-embed\"))\n",
       "        .catch(showError)\n",
       "        .then(() => displayChart(vegaEmbed));\n",
       "    }\n",
       "  })({\"config\": {\"view\": {\"continuousWidth\": 400, \"continuousHeight\": 300}}, \"data\": {\"url\": \"http://localhost:24936/5ee690e4b03e5b89d522055178e9b3c9.json\"}, \"mark\": \"bar\", \"encoding\": {\"x\": {\"type\": \"quantitative\", \"bin\": {\"maxbins\": 10}, \"field\": \"CompTotal\"}, \"y\": {\"type\": \"quantitative\", \"aggregate\": \"count\"}}, \"$schema\": \"https://vega.github.io/schema/vega-lite/v4.8.1.json\"}, {\"mode\": \"vega-lite\"});\n",
       "</script>"
      ],
      "text/plain": [
       "alt.Chart(...)"
      ]
     },
     "execution_count": 19,
     "metadata": {},
     "output_type": "execute_result"
    }
   ],
   "source": [
    "alt.data_transformers.enable('data_server')\n",
    "alt.Chart(train_df).mark_bar().encode(\n",
    "    x= alt.X(\"CompTotal\", bin=alt.Bin(maxbins = 10)),\n",
    "    y = \"count()\"\n",
    ")"
   ]
  },
  {
   "cell_type": "code",
   "execution_count": null,
   "id": "34c84afc-7924-4201-91de-1629981ee5ec",
   "metadata": {},
   "outputs": [],
   "source": []
  }
 ],
 "metadata": {
  "kernelspec": {
   "display_name": "Python [conda env:571]",
   "language": "python",
   "name": "conda-env-571-py"
  },
  "language_info": {
   "codemirror_mode": {
    "name": "ipython",
    "version": 3
   },
   "file_extension": ".py",
   "mimetype": "text/x-python",
   "name": "python",
   "nbconvert_exporter": "python",
   "pygments_lexer": "ipython3",
   "version": "3.9.7"
  }
 },
 "nbformat": 4,
 "nbformat_minor": 5
}
